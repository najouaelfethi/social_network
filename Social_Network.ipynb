{
 "cells": [
  {
   "cell_type": "markdown",
   "metadata": {},
   "source": [
    "<font size=\"4\"><b>But</b></font>\n",
    "\n",
    "Predict which of the previous customers will buy the new SUV(type of cars) car created by the car company.\n",
    "\n",
    "<font size=\"4\"><b>Variables</b></font>\n",
    "\n",
    "- Age: age of custumer\n",
    "- Estimated salary: estimated salary based on previous purchases(achats).\n",
    "- purchased(binary): the custumer has bought or not one of the previous SUV's cars."
   ]
  },
  {
   "cell_type": "markdown",
   "metadata": {},
   "source": [
    "## 1) Data Exploration"
   ]
  },
  {
   "cell_type": "markdown",
   "metadata": {},
   "source": [
    "### Importing Libraries:"
   ]
  },
  {
   "cell_type": "code",
   "execution_count": 62,
   "metadata": {},
   "outputs": [],
   "source": [
    "import numpy as np\n",
    "import pandas as pd\n",
    "import matplotlib.pyplot as plt\n"
   ]
  },
  {
   "cell_type": "markdown",
   "metadata": {},
   "source": [
    "### Importing dataset"
   ]
  },
  {
   "cell_type": "code",
   "execution_count": 105,
   "metadata": {},
   "outputs": [],
   "source": [
    "df = pd.read_csv(\"Social_Network.csv\", delimiter=\";\")\n",
    "data = df.copy()\n",
    "X = data.iloc[:,:-1].values#select all columns except last one\n",
    "y = data.iloc[:,-1].values#select just last column\n"
   ]
  },
  {
   "cell_type": "markdown",
   "metadata": {},
   "source": [
    "## 2) Data Preprocessing"
   ]
  },
  {
   "cell_type": "markdown",
   "metadata": {},
   "source": [
    "### Splitting dataset into training set and test set"
   ]
  },
  {
   "cell_type": "code",
   "execution_count": 106,
   "metadata": {},
   "outputs": [],
   "source": [
    "from sklearn.model_selection import train_test_split\n",
    "X_train,X_test,y_train,y_test= train_test_split(X,y,test_size=0.25,random_state=0)"
   ]
  },
  {
   "cell_type": "code",
   "execution_count": 107,
   "metadata": {},
   "outputs": [
    {
     "data": {
      "text/plain": [
       "array([[    44,  39000],\n",
       "       [    32, 120000],\n",
       "       [    38,  50000],\n",
       "       [    32, 135000],\n",
       "       [    52,  21000],\n",
       "       [    53, 104000],\n",
       "       [    39,  42000],\n",
       "       [    38,  61000],\n",
       "       [    36,  50000],\n",
       "       [    36,  63000],\n",
       "       [    35,  25000],\n",
       "       [    35,  50000],\n",
       "       [    42,  73000],\n",
       "       [    47,  49000],\n",
       "       [    59,  29000],\n",
       "       [    49,  65000],\n",
       "       [    45, 131000],\n",
       "       [    31,  89000],\n",
       "       [    46,  82000],\n",
       "       [    47,  51000],\n",
       "       [    26,  15000],\n",
       "       [    60, 102000],\n",
       "       [    38, 112000],\n",
       "       [    40, 107000],\n",
       "       [    42,  53000],\n",
       "       [    35,  59000],\n",
       "       [    48,  41000],\n",
       "       [    48, 134000],\n",
       "       [    38, 113000],\n",
       "       [    29, 148000],\n",
       "       [    26,  15000],\n",
       "       [    60,  42000],\n",
       "       [    24,  19000],\n",
       "       [    42, 149000],\n",
       "       [    46,  96000],\n",
       "       [    28,  59000],\n",
       "       [    39,  96000],\n",
       "       [    28,  89000],\n",
       "       [    41,  72000],\n",
       "       [    45,  26000],\n",
       "       [    33,  69000],\n",
       "       [    20,  82000],\n",
       "       [    31,  74000],\n",
       "       [    42,  80000],\n",
       "       [    35,  72000],\n",
       "       [    33, 149000],\n",
       "       [    40,  71000],\n",
       "       [    51, 146000],\n",
       "       [    46,  79000],\n",
       "       [    35,  75000],\n",
       "       [    38,  51000],\n",
       "       [    36,  75000],\n",
       "       [    37,  78000],\n",
       "       [    38,  61000],\n",
       "       [    60, 108000],\n",
       "       [    20,  82000],\n",
       "       [    57,  74000],\n",
       "       [    42,  65000],\n",
       "       [    26,  80000],\n",
       "       [    46, 117000],\n",
       "       [    35,  61000],\n",
       "       [    21,  68000],\n",
       "       [    28,  44000],\n",
       "       [    41,  87000],\n",
       "       [    37,  33000],\n",
       "       [    27,  90000],\n",
       "       [    39,  42000],\n",
       "       [    28, 123000],\n",
       "       [    31, 118000],\n",
       "       [    25,  87000],\n",
       "       [    35,  71000],\n",
       "       [    37,  70000],\n",
       "       [    35,  39000],\n",
       "       [    47,  23000],\n",
       "       [    35, 147000],\n",
       "       [    48, 138000],\n",
       "       [    26,  86000],\n",
       "       [    25,  79000],\n",
       "       [    52, 138000],\n",
       "       [    51,  23000],\n",
       "       [    35,  60000],\n",
       "       [    33, 113000],\n",
       "       [    30, 107000],\n",
       "       [    48,  33000],\n",
       "       [    41,  80000],\n",
       "       [    48,  96000],\n",
       "       [    31,  18000],\n",
       "       [    31,  71000],\n",
       "       [    43, 129000],\n",
       "       [    59,  76000],\n",
       "       [    18,  44000],\n",
       "       [    36, 118000],\n",
       "       [    42,  90000],\n",
       "       [    47,  30000],\n",
       "       [    26,  43000],\n",
       "       [    40,  78000],\n",
       "       [    46,  59000],\n",
       "       [    59,  42000],\n",
       "       [    46,  74000],\n",
       "       [    35,  91000],\n",
       "       [    28,  59000],\n",
       "       [    40,  57000],\n",
       "       [    59, 143000],\n",
       "       [    57,  26000],\n",
       "       [    52,  38000],\n",
       "       [    47, 113000],\n",
       "       [    53, 143000],\n",
       "       [    35,  27000],\n",
       "       [    58, 101000],\n",
       "       [    45,  45000],\n",
       "       [    23,  82000],\n",
       "       [    46,  23000],\n",
       "       [    42,  65000],\n",
       "       [    28,  84000],\n",
       "       [    38,  59000],\n",
       "       [    26,  84000],\n",
       "       [    29,  28000],\n",
       "       [    37,  71000],\n",
       "       [    22,  55000],\n",
       "       [    48,  35000],\n",
       "       [    49,  28000],\n",
       "       [    38,  65000],\n",
       "       [    27,  17000],\n",
       "       [    46,  28000],\n",
       "       [    48, 141000],\n",
       "       [    26,  17000],\n",
       "       [    35,  97000],\n",
       "       [    39,  59000],\n",
       "       [    24,  27000],\n",
       "       [    32,  18000],\n",
       "       [    46,  88000],\n",
       "       [    35,  58000],\n",
       "       [    56,  60000],\n",
       "       [    47,  34000],\n",
       "       [    40,  72000],\n",
       "       [    32, 100000],\n",
       "       [    19,  21000],\n",
       "       [    25,  90000],\n",
       "       [    35,  88000],\n",
       "       [    28,  32000],\n",
       "       [    50,  20000],\n",
       "       [    40,  59000],\n",
       "       [    50,  44000],\n",
       "       [    35,  72000],\n",
       "       [    40, 142000],\n",
       "       [    46,  32000],\n",
       "       [    39,  71000],\n",
       "       [    20,  74000],\n",
       "       [    29,  75000],\n",
       "       [    31,  76000],\n",
       "       [    47,  25000],\n",
       "       [    40,  61000],\n",
       "       [    34, 112000],\n",
       "       [    38,  80000],\n",
       "       [    42,  75000],\n",
       "       [    47,  47000],\n",
       "       [    39,  75000],\n",
       "       [    19,  25000],\n",
       "       [    37,  80000],\n",
       "       [    36,  60000],\n",
       "       [    41,  52000],\n",
       "       [    36, 125000],\n",
       "       [    48,  29000],\n",
       "       [    36, 126000],\n",
       "       [    51, 134000],\n",
       "       [    27,  57000],\n",
       "       [    38,  71000],\n",
       "       [    39,  61000],\n",
       "       [    22,  27000],\n",
       "       [    33,  60000],\n",
       "       [    48,  74000],\n",
       "       [    58,  23000],\n",
       "       [    53,  72000],\n",
       "       [    32, 117000],\n",
       "       [    54,  70000],\n",
       "       [    30,  80000],\n",
       "       [    58,  95000],\n",
       "       [    26,  52000],\n",
       "       [    45,  79000],\n",
       "       [    24,  55000],\n",
       "       [    40,  75000],\n",
       "       [    33,  28000],\n",
       "       [    44, 139000],\n",
       "       [    22,  18000],\n",
       "       [    33,  51000],\n",
       "       [    43, 133000],\n",
       "       [    24,  32000],\n",
       "       [    46,  22000],\n",
       "       [    35,  55000],\n",
       "       [    54, 104000],\n",
       "       [    48, 119000],\n",
       "       [    35,  53000],\n",
       "       [    37, 144000],\n",
       "       [    23,  66000],\n",
       "       [    37, 137000],\n",
       "       [    31,  58000],\n",
       "       [    33,  41000],\n",
       "       [    45,  22000],\n",
       "       [    30,  15000],\n",
       "       [    19,  19000],\n",
       "       [    49,  74000],\n",
       "       [    39, 122000],\n",
       "       [    35,  73000],\n",
       "       [    39,  71000],\n",
       "       [    24,  23000],\n",
       "       [    41,  72000],\n",
       "       [    29,  83000],\n",
       "       [    54,  26000],\n",
       "       [    35,  44000],\n",
       "       [    37,  75000],\n",
       "       [    29,  47000],\n",
       "       [    31,  68000],\n",
       "       [    42,  54000],\n",
       "       [    30, 135000],\n",
       "       [    52, 114000],\n",
       "       [    50,  36000],\n",
       "       [    56, 133000],\n",
       "       [    29,  61000],\n",
       "       [    30,  89000],\n",
       "       [    26,  16000],\n",
       "       [    33,  31000],\n",
       "       [    41,  72000],\n",
       "       [    36,  33000],\n",
       "       [    55, 125000],\n",
       "       [    48, 131000],\n",
       "       [    41,  71000],\n",
       "       [    30,  62000],\n",
       "       [    37,  72000],\n",
       "       [    41,  63000],\n",
       "       [    58,  47000],\n",
       "       [    30, 116000],\n",
       "       [    20,  49000],\n",
       "       [    37,  74000],\n",
       "       [    41,  59000],\n",
       "       [    49,  89000],\n",
       "       [    28,  79000],\n",
       "       [    53,  82000],\n",
       "       [    40,  57000],\n",
       "       [    60,  34000],\n",
       "       [    35, 108000],\n",
       "       [    21,  72000],\n",
       "       [    38,  71000],\n",
       "       [    39, 106000],\n",
       "       [    37,  57000],\n",
       "       [    26,  72000],\n",
       "       [    35,  23000],\n",
       "       [    54, 108000],\n",
       "       [    30,  17000],\n",
       "       [    39, 134000],\n",
       "       [    29,  43000],\n",
       "       [    33,  43000],\n",
       "       [    35,  38000],\n",
       "       [    41,  45000],\n",
       "       [    41,  72000],\n",
       "       [    39, 134000],\n",
       "       [    27, 137000],\n",
       "       [    21,  16000],\n",
       "       [    26,  32000],\n",
       "       [    31,  66000],\n",
       "       [    39,  73000],\n",
       "       [    41,  79000],\n",
       "       [    47,  50000],\n",
       "       [    41,  30000],\n",
       "       [    37,  93000],\n",
       "       [    60,  46000],\n",
       "       [    25,  22000],\n",
       "       [    28,  37000],\n",
       "       [    38,  55000],\n",
       "       [    36,  54000],\n",
       "       [    20,  36000],\n",
       "       [    56, 104000],\n",
       "       [    40,  57000],\n",
       "       [    42, 108000],\n",
       "       [    20,  23000],\n",
       "       [    40,  65000],\n",
       "       [    47,  20000],\n",
       "       [    18,  86000],\n",
       "       [    35,  79000],\n",
       "       [    57,  33000],\n",
       "       [    34,  72000],\n",
       "       [    49,  39000],\n",
       "       [    27,  31000],\n",
       "       [    19,  70000],\n",
       "       [    39,  79000],\n",
       "       [    26,  81000],\n",
       "       [    25,  80000],\n",
       "       [    28,  85000],\n",
       "       [    55,  39000],\n",
       "       [    50,  88000],\n",
       "       [    49,  88000],\n",
       "       [    52, 150000],\n",
       "       [    35,  65000],\n",
       "       [    42,  54000],\n",
       "       [    34,  43000],\n",
       "       [    37,  52000],\n",
       "       [    48,  30000],\n",
       "       [    29,  43000],\n",
       "       [    36,  52000],\n",
       "       [    27,  54000],\n",
       "       [    26, 118000]], dtype=int64)"
      ]
     },
     "execution_count": 107,
     "metadata": {},
     "output_type": "execute_result"
    }
   ],
   "source": [
    "X_train"
   ]
  },
  {
   "cell_type": "code",
   "execution_count": 111,
   "metadata": {},
   "outputs": [
    {
     "name": "stdout",
     "output_type": "stream",
     "text": [
      "[[    30  87000]\n",
      " [    38  50000]\n",
      " [    35  75000]\n",
      " [    30  79000]\n",
      " [    35  50000]\n",
      " [    27  20000]\n",
      " [    31  15000]\n",
      " [    36 144000]\n",
      " [    18  68000]\n",
      " [    47  43000]\n",
      " [    30  49000]\n",
      " [    28  55000]\n",
      " [    37  55000]\n",
      " [    39  77000]\n",
      " [    20  86000]\n",
      " [    32 117000]\n",
      " [    37  77000]\n",
      " [    19  85000]\n",
      " [    55 130000]\n",
      " [    35  22000]\n",
      " [    35  47000]\n",
      " [    47 144000]\n",
      " [    41  51000]\n",
      " [    47 105000]\n",
      " [    23  28000]\n",
      " [    49 141000]\n",
      " [    28  87000]\n",
      " [    29  80000]\n",
      " [    37  62000]\n",
      " [    32  86000]\n",
      " [    21  88000]\n",
      " [    37  79000]\n",
      " [    57  60000]\n",
      " [    37  53000]\n",
      " [    24  58000]\n",
      " [    18  52000]\n",
      " [    22  81000]\n",
      " [    34  43000]\n",
      " [    31  34000]\n",
      " [    49  36000]\n",
      " [    27  88000]\n",
      " [    41  52000]\n",
      " [    27  84000]\n",
      " [    35  20000]\n",
      " [    43 112000]\n",
      " [    27  58000]\n",
      " [    37  80000]\n",
      " [    52  90000]\n",
      " [    26  30000]\n",
      " [    49  86000]\n",
      " [    57 122000]\n",
      " [    34  25000]\n",
      " [    35  57000]\n",
      " [    34 115000]\n",
      " [    59  88000]\n",
      " [    45  32000]\n",
      " [    29  83000]\n",
      " [    26  80000]\n",
      " [    49  28000]\n",
      " [    23  20000]\n",
      " [    32  18000]\n",
      " [    60  42000]\n",
      " [    19  76000]\n",
      " [    36  99000]\n",
      " [    19  26000]\n",
      " [    60  83000]\n",
      " [    24  89000]\n",
      " [    27  58000]\n",
      " [    40  47000]\n",
      " [    42  70000]\n",
      " [    32 150000]\n",
      " [    35  77000]\n",
      " [    22  63000]\n",
      " [    45  22000]\n",
      " [    27  89000]\n",
      " [    18  82000]\n",
      " [    42  79000]\n",
      " [    40  60000]\n",
      " [    53  34000]\n",
      " [    47 107000]\n",
      " [    58 144000]\n",
      " [    59  83000]\n",
      " [    24  55000]\n",
      " [    26  35000]\n",
      " [    58  38000]\n",
      " [    42  80000]\n",
      " [    40  75000]\n",
      " [    59 130000]\n",
      " [    46  41000]\n",
      " [    41  60000]\n",
      " [    42  64000]\n",
      " [    37 146000]\n",
      " [    23  48000]\n",
      " [    25  33000]\n",
      " [    24  84000]\n",
      " [    27  96000]\n",
      " [    23  63000]\n",
      " [    48  33000]\n",
      " [    48  90000]\n",
      " [    42 104000]]\n"
     ]
    }
   ],
   "source": [
    "print(X_test)"
   ]
  },
  {
   "cell_type": "code",
   "execution_count": 114,
   "metadata": {},
   "outputs": [
    {
     "name": "stdout",
     "output_type": "stream",
     "text": [
      "[0 0 0 0 0 0 0 1 0 0 0 0 0 0 0 0 0 0 1 0 0 1 0 1 0 1 0 0 0 0 0 1 1 0 0 0 0\n",
      " 0 0 1 0 0 0 0 1 0 0 1 0 1 1 0 0 0 1 1 0 0 1 0 0 1 0 1 0 1 0 0 0 0 1 0 0 1\n",
      " 0 0 0 0 1 1 1 0 0 0 1 1 0 1 1 0 0 1 0 0 0 1 0 1 1 1]\n"
     ]
    }
   ],
   "source": [
    "print(y_test) #first 0 is for the 30yo with salary 87000"
   ]
  },
  {
   "cell_type": "markdown",
   "metadata": {},
   "source": [
    "### Feature scaling"
   ]
  },
  {
   "cell_type": "markdown",
   "metadata": {},
   "source": [
    "1. Normalization using MinMaxScaler"
   ]
  },
  {
   "cell_type": "code",
   "execution_count": 39,
   "metadata": {},
   "outputs": [],
   "source": [
    "#norm = MinMaxScaler().fit(x_train)"
   ]
  },
  {
   "cell_type": "markdown",
   "metadata": {},
   "source": [
    "2. Standarization with StandardScaler"
   ]
  },
  {
   "cell_type": "code",
   "execution_count": 115,
   "metadata": {},
   "outputs": [],
   "source": [
    "from sklearn.preprocessing import StandardScaler,MinMaxScaler\n",
    "std = StandardScaler()\n",
    "x_train = std.fit_transform(X_train)#transform independent features of training set into mean=0 and std=1\n",
    "x_test = std.transform(X_test)\n"
   ]
  },
  {
   "cell_type": "code",
   "execution_count": 116,
   "metadata": {},
   "outputs": [
    {
     "data": {
      "text/plain": [
       "array([[-0.80480212,  0.50496393],\n",
       "       [-0.01254409, -0.5677824 ],\n",
       "       [-0.30964085,  0.1570462 ],\n",
       "       [-0.80480212,  0.27301877],\n",
       "       [-0.30964085, -0.5677824 ],\n",
       "       [-1.10189888, -1.43757673],\n",
       "       [-0.70576986, -1.58254245],\n",
       "       [-0.21060859,  2.15757314],\n",
       "       [-1.99318916, -0.04590581],\n",
       "       [ 0.8787462 , -0.77073441],\n",
       "       [-0.80480212, -0.59677555],\n",
       "       [-1.00286662, -0.42281668],\n",
       "       [-0.11157634, -0.42281668],\n",
       "       [ 0.08648817,  0.21503249],\n",
       "       [-1.79512465,  0.47597078],\n",
       "       [-0.60673761,  1.37475825],\n",
       "       [-0.11157634,  0.21503249],\n",
       "       [-1.89415691,  0.44697764],\n",
       "       [ 1.67100423,  1.75166912],\n",
       "       [-0.30964085, -1.37959044],\n",
       "       [-0.30964085, -0.65476184],\n",
       "       [ 0.8787462 ,  2.15757314],\n",
       "       [ 0.28455268, -0.53878926],\n",
       "       [ 0.8787462 ,  1.02684052],\n",
       "       [-1.49802789, -1.20563157],\n",
       "       [ 1.07681071,  2.07059371],\n",
       "       [-1.00286662,  0.50496393],\n",
       "       [-0.90383437,  0.30201192],\n",
       "       [-0.11157634, -0.21986468],\n",
       "       [-0.60673761,  0.47597078],\n",
       "       [-1.6960924 ,  0.53395707],\n",
       "       [-0.11157634,  0.27301877],\n",
       "       [ 1.86906873, -0.27785096],\n",
       "       [-0.11157634, -0.48080297],\n",
       "       [-1.39899564, -0.33583725],\n",
       "       [-1.99318916, -0.50979612],\n",
       "       [-1.59706014,  0.33100506],\n",
       "       [-0.4086731 , -0.77073441],\n",
       "       [-0.70576986, -1.03167271],\n",
       "       [ 1.07681071, -0.97368642],\n",
       "       [-1.10189888,  0.53395707],\n",
       "       [ 0.28455268, -0.50979612],\n",
       "       [-1.10189888,  0.41798449],\n",
       "       [-0.30964085, -1.43757673],\n",
       "       [ 0.48261718,  1.22979253],\n",
       "       [-1.10189888, -0.33583725],\n",
       "       [-0.11157634,  0.30201192],\n",
       "       [ 1.37390747,  0.59194336],\n",
       "       [-1.20093113, -1.14764529],\n",
       "       [ 1.07681071,  0.47597078],\n",
       "       [ 1.86906873,  1.51972397],\n",
       "       [-0.4086731 , -1.29261101],\n",
       "       [-0.30964085, -0.3648304 ],\n",
       "       [-0.4086731 ,  1.31677196],\n",
       "       [ 2.06713324,  0.53395707],\n",
       "       [ 0.68068169, -1.089659  ],\n",
       "       [-0.90383437,  0.38899135],\n",
       "       [-1.20093113,  0.30201192],\n",
       "       [ 1.07681071, -1.20563157],\n",
       "       [-1.49802789, -1.43757673],\n",
       "       [-0.60673761, -1.49556302],\n",
       "       [ 2.1661655 , -0.79972756],\n",
       "       [-1.89415691,  0.18603934],\n",
       "       [-0.21060859,  0.85288166],\n",
       "       [-1.89415691, -1.26361786],\n",
       "       [ 2.1661655 ,  0.38899135],\n",
       "       [-1.39899564,  0.56295021],\n",
       "       [-1.10189888, -0.33583725],\n",
       "       [ 0.18552042, -0.65476184],\n",
       "       [ 0.38358493,  0.01208048],\n",
       "       [-0.60673761,  2.331532  ],\n",
       "       [-0.30964085,  0.21503249],\n",
       "       [-1.59706014, -0.19087153],\n",
       "       [ 0.68068169, -1.37959044],\n",
       "       [-1.10189888,  0.56295021],\n",
       "       [-1.99318916,  0.35999821],\n",
       "       [ 0.38358493,  0.27301877],\n",
       "       [ 0.18552042, -0.27785096],\n",
       "       [ 1.47293972, -1.03167271],\n",
       "       [ 0.8787462 ,  1.08482681],\n",
       "       [ 1.96810099,  2.15757314],\n",
       "       [ 2.06713324,  0.38899135],\n",
       "       [-1.39899564, -0.42281668],\n",
       "       [-1.20093113, -1.00267957],\n",
       "       [ 1.96810099, -0.91570013],\n",
       "       [ 0.38358493,  0.30201192],\n",
       "       [ 0.18552042,  0.1570462 ],\n",
       "       [ 2.06713324,  1.75166912],\n",
       "       [ 0.77971394, -0.8287207 ],\n",
       "       [ 0.28455268, -0.27785096],\n",
       "       [ 0.38358493, -0.16187839],\n",
       "       [-0.11157634,  2.21555943],\n",
       "       [-1.49802789, -0.62576869],\n",
       "       [-1.29996338, -1.06066585],\n",
       "       [-1.39899564,  0.41798449],\n",
       "       [-1.10189888,  0.76590222],\n",
       "       [-1.49802789, -0.19087153],\n",
       "       [ 0.97777845, -1.06066585],\n",
       "       [ 0.97777845,  0.59194336],\n",
       "       [ 0.38358493,  0.99784738]])"
      ]
     },
     "execution_count": 116,
     "metadata": {},
     "output_type": "execute_result"
    }
   ],
   "source": [
    "x_test"
   ]
  },
  {
   "cell_type": "markdown",
   "metadata": {},
   "source": [
    "## 3) Model Training"
   ]
  },
  {
   "cell_type": "markdown",
   "metadata": {},
   "source": [
    "### Training Model on Training set"
   ]
  },
  {
   "cell_type": "code",
   "execution_count": 117,
   "metadata": {},
   "outputs": [
    {
     "data": {
      "text/html": [
       "<style>#sk-container-id-6 {color: black;}#sk-container-id-6 pre{padding: 0;}#sk-container-id-6 div.sk-toggleable {background-color: white;}#sk-container-id-6 label.sk-toggleable__label {cursor: pointer;display: block;width: 100%;margin-bottom: 0;padding: 0.3em;box-sizing: border-box;text-align: center;}#sk-container-id-6 label.sk-toggleable__label-arrow:before {content: \"▸\";float: left;margin-right: 0.25em;color: #696969;}#sk-container-id-6 label.sk-toggleable__label-arrow:hover:before {color: black;}#sk-container-id-6 div.sk-estimator:hover label.sk-toggleable__label-arrow:before {color: black;}#sk-container-id-6 div.sk-toggleable__content {max-height: 0;max-width: 0;overflow: hidden;text-align: left;background-color: #f0f8ff;}#sk-container-id-6 div.sk-toggleable__content pre {margin: 0.2em;color: black;border-radius: 0.25em;background-color: #f0f8ff;}#sk-container-id-6 input.sk-toggleable__control:checked~div.sk-toggleable__content {max-height: 200px;max-width: 100%;overflow: auto;}#sk-container-id-6 input.sk-toggleable__control:checked~label.sk-toggleable__label-arrow:before {content: \"▾\";}#sk-container-id-6 div.sk-estimator input.sk-toggleable__control:checked~label.sk-toggleable__label {background-color: #d4ebff;}#sk-container-id-6 div.sk-label input.sk-toggleable__control:checked~label.sk-toggleable__label {background-color: #d4ebff;}#sk-container-id-6 input.sk-hidden--visually {border: 0;clip: rect(1px 1px 1px 1px);clip: rect(1px, 1px, 1px, 1px);height: 1px;margin: -1px;overflow: hidden;padding: 0;position: absolute;width: 1px;}#sk-container-id-6 div.sk-estimator {font-family: monospace;background-color: #f0f8ff;border: 1px dotted black;border-radius: 0.25em;box-sizing: border-box;margin-bottom: 0.5em;}#sk-container-id-6 div.sk-estimator:hover {background-color: #d4ebff;}#sk-container-id-6 div.sk-parallel-item::after {content: \"\";width: 100%;border-bottom: 1px solid gray;flex-grow: 1;}#sk-container-id-6 div.sk-label:hover label.sk-toggleable__label {background-color: #d4ebff;}#sk-container-id-6 div.sk-serial::before {content: \"\";position: absolute;border-left: 1px solid gray;box-sizing: border-box;top: 0;bottom: 0;left: 50%;z-index: 0;}#sk-container-id-6 div.sk-serial {display: flex;flex-direction: column;align-items: center;background-color: white;padding-right: 0.2em;padding-left: 0.2em;position: relative;}#sk-container-id-6 div.sk-item {position: relative;z-index: 1;}#sk-container-id-6 div.sk-parallel {display: flex;align-items: stretch;justify-content: center;background-color: white;position: relative;}#sk-container-id-6 div.sk-item::before, #sk-container-id-6 div.sk-parallel-item::before {content: \"\";position: absolute;border-left: 1px solid gray;box-sizing: border-box;top: 0;bottom: 0;left: 50%;z-index: -1;}#sk-container-id-6 div.sk-parallel-item {display: flex;flex-direction: column;z-index: 1;position: relative;background-color: white;}#sk-container-id-6 div.sk-parallel-item:first-child::after {align-self: flex-end;width: 50%;}#sk-container-id-6 div.sk-parallel-item:last-child::after {align-self: flex-start;width: 50%;}#sk-container-id-6 div.sk-parallel-item:only-child::after {width: 0;}#sk-container-id-6 div.sk-dashed-wrapped {border: 1px dashed gray;margin: 0 0.4em 0.5em 0.4em;box-sizing: border-box;padding-bottom: 0.4em;background-color: white;}#sk-container-id-6 div.sk-label label {font-family: monospace;font-weight: bold;display: inline-block;line-height: 1.2em;}#sk-container-id-6 div.sk-label-container {text-align: center;}#sk-container-id-6 div.sk-container {/* jupyter's `normalize.less` sets `[hidden] { display: none; }` but bootstrap.min.css set `[hidden] { display: none !important; }` so we also need the `!important` here to be able to override the default hidden behavior on the sphinx rendered scikit-learn.org. See: https://github.com/scikit-learn/scikit-learn/issues/21755 */display: inline-block !important;position: relative;}#sk-container-id-6 div.sk-text-repr-fallback {display: none;}</style><div id=\"sk-container-id-6\" class=\"sk-top-container\"><div class=\"sk-text-repr-fallback\"><pre>LogisticRegression(random_state=0)</pre><b>In a Jupyter environment, please rerun this cell to show the HTML representation or trust the notebook. <br />On GitHub, the HTML representation is unable to render, please try loading this page with nbviewer.org.</b></div><div class=\"sk-container\" hidden><div class=\"sk-item\"><div class=\"sk-estimator sk-toggleable\"><input class=\"sk-toggleable__control sk-hidden--visually\" id=\"sk-estimator-id-6\" type=\"checkbox\" checked><label for=\"sk-estimator-id-6\" class=\"sk-toggleable__label sk-toggleable__label-arrow\">LogisticRegression</label><div class=\"sk-toggleable__content\"><pre>LogisticRegression(random_state=0)</pre></div></div></div></div></div>"
      ],
      "text/plain": [
       "LogisticRegression(random_state=0)"
      ]
     },
     "execution_count": 117,
     "metadata": {},
     "output_type": "execute_result"
    }
   ],
   "source": [
    "from sklearn.linear_model import LogisticRegression\n",
    "model = LogisticRegression(random_state=0)#create instance\n",
    "model.fit(x_train,y_train)#fit model: learn from input and output"
   ]
  },
  {
   "cell_type": "markdown",
   "metadata": {},
   "source": [
    "### Campare y_pred with y_test(real one)"
   ]
  },
  {
   "cell_type": "code",
   "execution_count": 126,
   "metadata": {},
   "outputs": [
    {
     "data": {
      "text/plain": [
       "array([0, 0, 0, 0, 0, 0, 0, 1, 0, 1, 0, 0, 0, 0, 0, 0, 0, 0, 1, 0, 0, 1,\n",
       "       0, 1, 0, 1, 0, 0, 0, 0, 0, 0, 1, 0, 0, 0, 0, 0, 0, 1, 0, 0, 0, 0,\n",
       "       1, 0, 0, 1, 0, 1, 1, 0, 0, 0, 1, 0, 0, 0, 0, 0, 0, 1, 0, 0, 0, 1,\n",
       "       0, 0, 0, 0, 1, 0, 0, 0, 0, 0, 1, 0, 1, 1, 1, 1, 0, 0, 1, 1, 0, 1,\n",
       "       0, 0, 0, 1, 0, 0, 0, 0, 0, 0, 1, 1], dtype=int64)"
      ]
     },
     "execution_count": 126,
     "metadata": {},
     "output_type": "execute_result"
    }
   ],
   "source": [
    "y_pred = model.predict(x_test)\n",
    "y_pred"
   ]
  },
  {
   "cell_type": "code",
   "execution_count": 136,
   "metadata": {},
   "outputs": [
    {
     "name": "stdout",
     "output_type": "stream",
     "text": [
      "[[0 0]\n",
      " [0 0]\n",
      " [0 0]\n",
      " [0 0]\n",
      " [0 0]\n",
      " [0 0]\n",
      " [0 0]\n",
      " [1 1]\n",
      " [0 0]\n",
      " [1 0]\n",
      " [0 0]\n",
      " [0 0]\n",
      " [0 0]\n",
      " [0 0]\n",
      " [0 0]\n",
      " [0 0]\n",
      " [0 0]\n",
      " [0 0]\n",
      " [1 1]\n",
      " [0 0]\n",
      " [0 0]\n",
      " [1 1]\n",
      " [0 0]\n",
      " [1 1]\n",
      " [0 0]\n",
      " [1 1]\n",
      " [0 0]\n",
      " [0 0]\n",
      " [0 0]\n",
      " [0 0]\n",
      " [0 0]\n",
      " [0 1]\n",
      " [1 1]\n",
      " [0 0]\n",
      " [0 0]\n",
      " [0 0]\n",
      " [0 0]\n",
      " [0 0]\n",
      " [0 0]\n",
      " [1 1]\n",
      " [0 0]\n",
      " [0 0]\n",
      " [0 0]\n",
      " [0 0]\n",
      " [1 1]\n",
      " [0 0]\n",
      " [0 0]\n",
      " [1 1]\n",
      " [0 0]\n",
      " [1 1]\n",
      " [1 1]\n",
      " [0 0]\n",
      " [0 0]\n",
      " [0 0]\n",
      " [1 1]\n",
      " [0 1]\n",
      " [0 0]\n",
      " [0 0]\n",
      " [0 1]\n",
      " [0 0]\n",
      " [0 0]\n",
      " [1 1]\n",
      " [0 0]\n",
      " [0 1]\n",
      " [0 0]\n",
      " [1 1]\n",
      " [0 0]\n",
      " [0 0]\n",
      " [0 0]\n",
      " [0 0]\n",
      " [1 1]\n",
      " [0 0]\n",
      " [0 0]\n",
      " [0 1]\n",
      " [0 0]\n",
      " [0 0]\n",
      " [1 0]\n",
      " [0 0]\n",
      " [1 1]\n",
      " [1 1]\n",
      " [1 1]\n",
      " [1 0]\n",
      " [0 0]\n",
      " [0 0]\n",
      " [1 1]\n",
      " [1 1]\n",
      " [0 0]\n",
      " [1 1]\n",
      " [0 1]\n",
      " [0 0]\n",
      " [0 0]\n",
      " [1 1]\n",
      " [0 0]\n",
      " [0 0]\n",
      " [0 0]\n",
      " [0 1]\n",
      " [0 0]\n",
      " [0 1]\n",
      " [1 1]\n",
      " [1 1]]\n"
     ]
    }
   ],
   "source": [
    "#array 2D y_pred and y_test to comapre those 2\n",
    "print(np.concatenate((y_pred.reshape(len(y_pred),1), y_test.reshape(len(y_test),1)),1))"
   ]
  },
  {
   "cell_type": "markdown",
   "metadata": {},
   "source": [
    "Interpretation: the predicted values are not the same as real ones for all results"
   ]
  },
  {
   "cell_type": "markdown",
   "metadata": {},
   "source": [
    "### Predict a new results"
   ]
  },
  {
   "cell_type": "code",
   "execution_count": 148,
   "metadata": {},
   "outputs": [
    {
     "data": {
      "text/plain": [
       "array([0], dtype=int64)"
      ]
     },
     "execution_count": 148,
     "metadata": {},
     "output_type": "execute_result"
    }
   ],
   "source": [
    "model.predict(std.transform([[30,87000]]))#values are in test set, x_test\n",
    "#Needs to give 0\n",
    "#We use double [] cz y expect 2D array\n",
    "#values needs to be scaled cz here values are not scaled(original one)."
   ]
  },
  {
   "cell_type": "markdown",
   "metadata": {},
   "source": [
    "### Confusion Matrix: shows exactly number of correct/incorrect predictions for the 2 results 0 and 1"
   ]
  },
  {
   "cell_type": "code",
   "execution_count": 147,
   "metadata": {},
   "outputs": [
    {
     "name": "stdout",
     "output_type": "stream",
     "text": [
      "Confusion matrix: [[65  3]\n",
      " [ 8 24]]\n",
      "accuray score is: 0.89\n"
     ]
    },
    {
     "data": {
      "image/png": "[encoded data removed]",
      "text/plain": [
       "<Figure size 640x480 with 2 Axes>"
      ]
     },
     "metadata": {},
     "output_type": "display_data"
    }
   ],
   "source": [
    "from sklearn.metrics import confusion_matrix,accuracy_score\n",
    "import seaborn as sns\n",
    "#2methods\n",
    "conf = confusion_matrix(y_test,y_pred)\n",
    "acc = accuracy_score(y_test,y_pred)\n",
    "sns.heatmap(conf)#y_test en bas, y_pred a gauche\n",
    "print(\"Confusion matrix:\",conf)\n",
    "print(\"accuray score is:\",acc)\n"
   ]
  },
  {
   "cell_type": "markdown",
   "metadata": {},
   "source": [
    "Intrepetation: <br>\n",
    "1) Metrix\n",
    "- 65 times prediction was correct for predecting value 0\n",
    "- 3 times prediction was 0 and real was 1\n",
    "- 24 times prediction was correct for predecting value 1\n",
    "- 8 times prediction was 1 and real was 0 => custumor didn't buy car bt it was predicted that he did.\n",
    "2) Accuracy score<br>\n",
    "89% correct predictions in test set."
   ]
  }
 ],
 "metadata": {
  "kernelspec": {
   "display_name": "base",
   "language": "python",
   "name": "python3"
  },
  "language_info": {
   "codemirror_mode": {
    "name": "ipython",
    "version": 3
   },
   "file_extension": ".py",
   "mimetype": "text/x-python",
   "name": "python",
   "nbconvert_exporter": "python",
   "pygments_lexer": "ipython3",
   "version": "3.11.5"
  }
 },
 "nbformat": 4,
 "nbformat_minor": 2
}
